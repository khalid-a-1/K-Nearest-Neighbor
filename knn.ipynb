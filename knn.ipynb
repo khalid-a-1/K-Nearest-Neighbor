{
 "cells": [
  {
   "cell_type": "markdown",
   "metadata": {},
   "source": [
    "## CS339: Artificial Intelligence\n",
    "# Project 1: K-Nearest Neighbor Algorithm"
   ]
  },
  {
   "cell_type": "markdown",
   "metadata": {},
   "source": [
    "The purpose of this project is to implement the K-Nearest Neighbors Algorithm from scratch (without using built-in KNN fuctions) in Python. \n",
    "KNN classifies data points based on the distance between the new data points and the earlier stored data points. The algorithm finds the similarity measure (i.e. distance) between a new point and all available points in the data, selecting the specific points closest (neighbors) to the new point, then voting for the most common label of the points nearby (for classification) or averages the labels (for regression). "
   ]
  },
  {
   "cell_type": "markdown",
   "metadata": {},
   "source": [
    "For the purposes of this project, we will particularly focus on the Fisher’s Iris data set to show our algorithm. The Iris dataset has fifty records on the length and width measurements for sepals and petals for each of the three Iris species: Iris setosa, Iris virginica, and Iris versicolor. Our data is stored in a .csv file; here is a sample of what it looks like before we start with the KNN algorithm:"
   ]
  },
  {
   "cell_type": "markdown",
   "metadata": {},
   "source": [
    "5.1,3.5,1.4,0.2,Iris-setosa"
   ]
  },
  {
   "cell_type": "markdown",
   "metadata": {},
   "source": [
    "4.9,3.0,1.4,0.2,Iris-setosa"
   ]
  },
  {
   "cell_type": "markdown",
   "metadata": {},
   "source": [
    "4.7,3.2,1.3,0.2,Iris-setosa"
   ]
  },
  {
   "cell_type": "markdown",
   "metadata": {},
   "source": [
    "4.6,3.1,1.5,0.2,Iris-setosa"
   ]
  },
  {
   "cell_type": "markdown",
   "metadata": {},
   "source": [
    "5.0,3.6,1.4,0.2,Iris-setosa"
   ]
  },
  {
   "cell_type": "markdown",
   "metadata": {},
   "source": [
    "We start by first importing the necessary libraries and then head onto first 'cleaning up our data'. The main function handles the reformating of the data first."
   ]
  },
  {
   "cell_type": "markdown",
   "metadata": {},
   "source": [
    "The function handles the Iris dataset by first reading in the data from the .csv file. To be able to use the data for calculations, we first convert all the string values to float values. Further, the algorithm depends on having numeral values to be able to calculate the distances and classify data points efficiently which is why we need to make the data so that is it not categorical. With respect to the Iris data set, we can pivot species into indicator variables, marking true as 1 and false as 0. So respectively, the data is replaced for categorical values as shown:"
   ]
  },
  {
   "cell_type": "markdown",
   "metadata": {},
   "source": [
    "Iris-virginica = 0"
   ]
  },
  {
   "cell_type": "markdown",
   "metadata": {},
   "source": [
    "Iris-setosa = 1"
   ]
  },
  {
   "cell_type": "markdown",
   "metadata": {},
   "source": [
    "Iris-versicolor = 2"
   ]
  },
  {
   "cell_type": "code",
   "execution_count": 52,
   "metadata": {},
   "outputs": [],
   "source": [
    "\"\"\"\n",
    "This function formats the data by first reading it in\n",
    "and then converting strings to integers and the categorical \n",
    "values to numerical values. \n",
    "Parameters: None\n",
    "Return value: Formatted data \n",
    "\"\"\"\n",
    "def dataformatting():\n",
    "    f = 'iris.csv'\n",
    "    data = list()\n",
    "    with open(f, 'r') as inputf:\n",
    "        read = reader(inputf)\n",
    "        for x in read:\n",
    "            data.append(x)\n",
    "    for i in range(len(data[0])-1):\n",
    "        for x in data:\n",
    "            x[i] = float(x[i].strip())\n",
    "    y = len(data[0])-1\n",
    "    z = [x[y] for x in data]\n",
    "    seta = set(z)\n",
    "    dic = dict()\n",
    "    for i, v in enumerate(seta):\n",
    "        dic[v] = i\n",
    "    for x in data:\n",
    "        x[y] = dic[x[y]]\n",
    "    return data"
   ]
  },
  {
   "cell_type": "markdown",
   "metadata": {},
   "source": [
    "Similarly, the goal of the normalization function is to change the values of numeric columns in the data to a common scale, without distorting differences in values. For this algorithm, we normalize the data to bring all the variables to the same range of 0-1. This is achieved via first finding the minimun and maximum values of each column and then using the basic normalization formula: x normalized = (x – x minimum) / (x maximum – x minimum)"
   ]
  },
  {
   "cell_type": "code",
   "execution_count": 53,
   "metadata": {},
   "outputs": [],
   "source": [
    "\"\"\"\n",
    "This function normalizes the data by rescaling it into \n",
    "the range of 0 to 1.\n",
    "Parameters:\n",
    "    data = formatted Iris data\n",
    "Return value: none\n",
    "\"\"\"\n",
    "def normalization(data):\n",
    "    xtremes = list()\n",
    "    for i in range(len(data[0])):\n",
    "        y = [x[i] for x in data]\n",
    "        maxV = max(y)\n",
    "        minV = min(y)\n",
    "        xtremes.append([minV, maxV])\n",
    "    for x in data:\n",
    "        for i in range(len(x)):\n",
    "            l = x[i] - xtremes[i][0]\n",
    "            m = xtremes[i][1] - xtremes[i][0]\n",
    "            x[i] = l / m"
   ]
  },
  {
   "cell_type": "markdown",
   "metadata": {},
   "source": [
    "Now that our dataset has been modified for easy comparison and to recieve the most optimal results, we start our KNN algorithm by first finding the distance between points by using two rows in the data. The smaller the value in the data, the closer the two points are; 0 meaning no distance. The distance between two points is the measure of the straight line in between them which is implemented by this formula we use (in math) to find the distance between two points on a graph (x,y): sqrt(total of i to N (point1[i] – point2[i])^2)"
   ]
  },
  {
   "cell_type": "code",
   "execution_count": 54,
   "metadata": {},
   "outputs": [],
   "source": [
    "\"\"\"\n",
    "This function calculates the distance \n",
    "between two points.\n",
    "Parameters: \n",
    "    x = sample 1\n",
    "    y = sample 2\n",
    "Return value: \n",
    "    square root of the distance being calculated\n",
    "\"\"\"\n",
    "def distance(x, y):\n",
    "    d = 0.0\n",
    "    for i in range(len(x)-1):\n",
    "        c = (x[i] - y[i])**2\n",
    "        d = d + c\n",
    "    return sqrt(d)"
   ]
  },
  {
   "cell_type": "markdown",
   "metadata": {},
   "source": [
    "Now steping into actually implementing the algorithm, we first focus on finding the neighbors to the test point. Neighbors are number of closest distances to the point which are defined by the variable 'n_ngb' in our function. The neighbors for each sample are calculated by measuring the distances between the test data and the existing data. We do this by using our distance(x,y) function. Track of distances for each sample is kept in a tuple which is sorted in a descending order of distances. After the neighbors for the samples are appended to a list, the max function uses the the list to get what class has more values and then makes a prediction for our testing data. "
   ]
  },
  {
   "cell_type": "code",
   "execution_count": 55,
   "metadata": {},
   "outputs": [],
   "source": [
    "\"\"\"\n",
    "This function implements the K-Nearest Neighbors \n",
    "Algorithm for a single sample.\n",
    "Parameters: \n",
    "    training = training data set \n",
    "    testing = testing data set\n",
    "    ngb_size = number of neighbors \n",
    "Return value: \n",
    "    res = predicted classification for the sample\n",
    "\"\"\"\n",
    "def k_nearest_neighbors_1(training, testing, ngb_size):\n",
    "    dist = list()\n",
    "    for y in training:\n",
    "        dis = distance(testing, y)\n",
    "        dist.append((y, dis))\n",
    "    dist.sort(key=lambda tup: tup[1])\n",
    "    ngb = list()\n",
    "    for i in range(ngb_size):\n",
    "        ngb.append(dist[i][0])\n",
    "    v = [testing[-1] for testing in ngb]\n",
    "    res = max(set(v), key=v.count)\n",
    "    return res"
   ]
  },
  {
   "cell_type": "markdown",
   "metadata": {},
   "source": [
    "To better understand the performance of KNN, we will first run our model on a sample S. Sample S was picked out randomly from the data by me. In this scenerio, we run the algorithm to see if the prediction made for our sample is correct or not. "
   ]
  },
  {
   "cell_type": "markdown",
   "metadata": {},
   "source": [
    "S = 6.4,3.1,5.5,1.8,Iris-virginica"
   ]
  },
  {
   "cell_type": "markdown",
   "metadata": {},
   "source": [
    "As seen in the data, the classification of sample S is Iris-virginica. When running the KNN algorithm on S, we see that the algorithm correctly classifies S as 0 which is Iris-virginica."
   ]
  },
  {
   "cell_type": "code",
   "execution_count": 67,
   "metadata": {},
   "outputs": [],
   "source": [
    "\"\"\"\n",
    "This function calls the K-Nearest Neighbors \n",
    "Algorithm for a single sample and prints out \n",
    "accuracy percentage and mean values of each K-fold.\n",
    "Parameters: None\n",
    "Return value: None\n",
    "\"\"\"\n",
    "\n",
    "def main1():\n",
    "    f = 'iris.csv'\n",
    "    data = list()\n",
    "    with open(f, 'r') as inputf:\n",
    "        read = reader(inputf)\n",
    "        for x in read:\n",
    "            data.append(x)\n",
    "    for i in range(len(data[0])-1):\n",
    "        for x in data:\n",
    "            x[i] = float(x[i].strip())\n",
    "    y = len(data[0])-1\n",
    "    z = [x[y] for x in data]\n",
    "    seta = set(z)\n",
    "    dic = dict()\n",
    "    for i, v in enumerate(seta):\n",
    "        dic[v] = i\n",
    "        print('%s = %d' % (v, i))\n",
    "    for x in data:\n",
    "        x[y] = dic[x[y]]\n",
    "    n_ngb = 5\n",
    "    sample = [6.4,3.1,5.5,1.8]\n",
    "    class_p = k_nearest_neighbors_1(data, sample, n_ngb)\n",
    "    print('Sample=%s' % sample)\n",
    "    print('Class Predicted: %s' % class_p)"
   ]
  },
  {
   "cell_type": "code",
   "execution_count": 68,
   "metadata": {},
   "outputs": [
    {
     "name": "stdout",
     "output_type": "stream",
     "text": [
      "Iris-virginica = 0\n",
      "Iris-versicolor = 1\n",
      "Iris-setosa = 2\n",
      "Sample=[6.4, 3.1, 5.5, 1.8]\n",
      "Class Predicted: 0\n"
     ]
    }
   ],
   "source": [
    "main1()"
   ]
  },
  {
   "cell_type": "markdown",
   "metadata": {},
   "source": [
    "Further configuring the performance of our algorithm, we use the method of K-fold cross-validation. K-fold cross-validation is a resampling method used to evaluate the progress of machine learning standards on a limited data sample. The function has a parameter K, which refers to the number of groups that a given data sample is to be split into. For this implementation of data into groups, the function k_fold(data, k) is used. "
   ]
  },
  {
   "cell_type": "code",
   "execution_count": 69,
   "metadata": {},
   "outputs": [],
   "source": [
    "\"\"\"\n",
    "This function splits the data in K groups for \n",
    "k-fold cross-validation.\n",
    "Parameters: \n",
    "    data = formatted Iris data \n",
    "    k = number of groups the data is split into\n",
    "Return value: \n",
    "    split_d = split data\n",
    "\"\"\"\n",
    "def k_fold(data, k):\n",
    "    split_d = list()\n",
    "    c_d = list(data)\n",
    "    size = int(len(data) / k)\n",
    "    for i in range(k):\n",
    "        sample = list()\n",
    "        while len(sample) < size:\n",
    "            index = randrange(len(c_d))\n",
    "            sample.append(c_d.pop(index))\n",
    "        split_d.append(sample)\n",
    "    return split_d"
   ]
  },
  {
   "cell_type": "markdown",
   "metadata": {},
   "source": [
    "After spliting data into k-folds, the function accuracy(data, k, ngb_size) is used to first split the K groups into training and testing data by random between the range of 0 and length of the data. The algorithm then gets trained K times and the accuracy of the algorithm is then calculated. Accuracy is calculated by comparing the predicted values by the algorithm to the actual values of the data.  Futher, the mean of the predicted values on each cross-validation fold as well as the mean accuracy value is also calculated. "
   ]
  },
  {
   "cell_type": "code",
   "execution_count": 70,
   "metadata": {},
   "outputs": [],
   "source": [
    "\"\"\"\n",
    "This function implements the k-fold cross-validation\n",
    "on the data and calculates the mean accuracy values for each\n",
    "group K. \n",
    "Parameters: \n",
    "    data = formatted Iris data \n",
    "    k = number of groups the data is split into\n",
    "    ngb_size = number of neighbors\n",
    "Return value: \n",
    "    results = the mean accuracy values for each group K\n",
    "\"\"\"\n",
    "def accuracy(data, k, ngb_size):\n",
    "    results = list()\n",
    "    sample = k_fold(data, k)\n",
    "    for s in sample:\n",
    "        training = list(sample)\n",
    "        training.remove(s)\n",
    "        training = sum(training, [])\n",
    "        testing = list()\n",
    "        for x in s:\n",
    "            c = list(x)\n",
    "            testing.append(c)\n",
    "            c[-1] = None\n",
    "        g = k_nearest_neighbors_2(training, testing, ngb_size)\n",
    "        h = [x[-1] for x in s]\n",
    "        #print('Actual: %s' % h)\n",
    "        t = 0\n",
    "        for i in range(len(h)):\n",
    "            if h[i] == g[i]:\n",
    "                t += 1\n",
    "        v = t / float(len(h)) * 100.0\n",
    "        results.append(v)\n",
    "    return results"
   ]
  },
  {
   "cell_type": "markdown",
   "metadata": {},
   "source": [
    "We update our KNN algorithm to make it so that it appends the the predicted results for different samples into a list to be able to perform our accuracy calculations.  "
   ]
  },
  {
   "cell_type": "code",
   "execution_count": 71,
   "metadata": {},
   "outputs": [],
   "source": [
    "\"\"\"\n",
    "This function implements the K-Nearest Neighbors \n",
    "Algorithm for a K-fold cross-validation.\n",
    "Parameters: \n",
    "    training = training data set \n",
    "    testing = testing data set\n",
    "    ngb_size = number of neighbors \n",
    "Return value: \n",
    "    results = predicted classification for the each group\n",
    "\"\"\"\n",
    "def k_nearest_neighbors_2(training, testing, ngb_size):\n",
    "    results = list()\n",
    "    for x in testing:\n",
    "        dist = list()\n",
    "        for y in training:\n",
    "            dis = distance(x, y)\n",
    "            dist.append((y, dis))\n",
    "        dist.sort(key=lambda tup: tup[1])\n",
    "        ngb = list()\n",
    "        for i in range(ngb_size):\n",
    "            ngb.append(dist[i][0])\n",
    "        v = [x[-1] for x in ngb]\n",
    "        res = max(set(v), key=v.count)\n",
    "        results.append(res)\n",
    "    #print('Predicted: %s' % results)\n",
    "    return(results)"
   ]
  },
  {
   "cell_type": "markdown",
   "metadata": {},
   "source": [
    "The main function is then called to implement the K-fold cross-validation to test the accuracy of the algorithm. The mean values (of each K) as well as the mean accuracy of the algorithm is calculated and printed out as percentages."
   ]
  },
  {
   "cell_type": "code",
   "execution_count": 75,
   "metadata": {},
   "outputs": [],
   "source": [
    "\"\"\"\n",
    "This function calls the K-Nearest Neighbors \n",
    "Algorithm for K groups and prints out \n",
    "accuracy percentage and mean values of each K-fold.\n",
    "Parameters: None\n",
    "Return value: None\n",
    "\"\"\"\n",
    "def main():\n",
    "    seed(1)\n",
    "    data = dataformatting()\n",
    "    k = 4\n",
    "    ngb_size = 10\n",
    "    v = accuracy(data, k, ngb_size)\n",
    "    ca = (sum(v)/float(len(v)))\n",
    "    print('Values: %s' % v)\n",
    "    print('Mean Accuracy: %.3f%%' % ca)"
   ]
  },
  {
   "cell_type": "code",
   "execution_count": 76,
   "metadata": {
    "scrolled": true
   },
   "outputs": [
    {
     "name": "stdout",
     "output_type": "stream",
     "text": [
      "Values: [94.5945945945946, 100.0, 100.0, 94.5945945945946]\n",
      "Mean Accuracy: 97.297%\n"
     ]
    }
   ],
   "source": [
    "main()"
   ]
  },
  {
   "cell_type": "markdown",
   "metadata": {},
   "source": [
    "Further, I ran the algorithm with different K values to see changes in the mean accuracy percentages and individual mean percentages of the groups. The data is recorded for each K:"
   ]
  },
  {
   "cell_type": "markdown",
   "metadata": {},
   "source": [
    "    K = 2 \n",
    "    Values: [96.0, 94.66666666666667]\n",
    "    Mean Accuracy: 95.333%"
   ]
  },
  {
   "cell_type": "markdown",
   "metadata": {},
   "source": [
    "    K = 3\n",
    "    Values: [98.0, 98.0, 94.0]\n",
    "    Mean Accuracy: 96.667%"
   ]
  },
  {
   "cell_type": "markdown",
   "metadata": {},
   "source": [
    "    K = 4\n",
    "    Values: [97.2972972972973, 100.0, 97.2972972972973, 94.5945945945946]\n",
    "    Mean Accuracy: 97.297%"
   ]
  },
  {
   "cell_type": "markdown",
   "metadata": {},
   "source": [
    "    K = 5\n",
    "    Values: [96.66666666666667, 96.66666666666667, 100.0, 90.0, 100.0]\n",
    "    Mean Accuracy: 96.667%"
   ]
  },
  {
   "cell_type": "markdown",
   "metadata": {},
   "source": [
    "    K = 6\n",
    "    Values: [96.0, 92.0, 100.0, 96.0, 92.0, 100.0]\n",
    "    Mean Accuracy: 96.000%"
   ]
  },
  {
   "cell_type": "markdown",
   "metadata": {},
   "source": [
    "    K = 7\n",
    "    Values: [95.23809523809523, 90.47619047619048, 100.0, 100.0, 95.23809523809523, 95.23809523809523, 100.0]\n",
    "    Mean Accuracy: 96.599%"
   ]
  },
  {
   "cell_type": "markdown",
   "metadata": {},
   "source": [
    "    K = 8\n",
    "    Values: [94.44444444444444, 88.88888888888889, 100.0, 100.0, 100.0, 94.44444444444444, 94.44444444444444, 100.0]\n",
    "    Mean Accuracy: 96.528%"
   ]
  },
  {
   "cell_type": "markdown",
   "metadata": {},
   "source": [
    "    K = 9\n",
    "    Values: [93.75, 93.75, 93.75, 100.0, 100.0, 93.75, 100.0, 93.75, 100.0]\n",
    "    Mean Accuracy: 96.528%"
   ]
  },
  {
   "cell_type": "markdown",
   "metadata": {},
   "source": [
    "    K = 10\n",
    "    Values: [93.33333333333333, 93.33333333333333, 93.33333333333333, 100.0, 100.0, 100.0, 93.33333333333333, 93.33333333333333, 100.0, 100.0]\n",
    "    Mean Accuracy: 96.667%"
   ]
  },
  {
   "cell_type": "markdown",
   "metadata": {},
   "source": [
    "    K = 15 \n",
    "    Values: [90.0, 100.0, 90.0, 90.0, 100.0, 100.0, 100.0, 100.0, 100.0, 90.0, 100.0, 90.0, 100.0, 100.0, 100.0]\n",
    "    Mean Accuracy: 96.667%"
   ]
  },
  {
   "cell_type": "markdown",
   "metadata": {},
   "source": [
    "To better understand this data, a graph of number of groups K against mean accuracy % is plotted. For the graph, number of neighbors are kept constant i.e. n_ngb = 5. Looking at the resultant graph below, a 4-fold cross validation tells us that K = 4 results in the lowest classification error. After which the accuracy of the algortithm starts to decrease meaning that at K = 4, our model performs the best."
   ]
  },
  {
   "cell_type": "code",
   "execution_count": 77,
   "metadata": {},
   "outputs": [
    {
     "data": {
      "image/png": "[encoded data removed]",
      "text/plain": [
       "<Figure size 432x288 with 1 Axes>"
      ]
     },
     "metadata": {
      "needs_background": "light"
     },
     "output_type": "display_data"
    }
   ],
   "source": [
    "\"\"\"\n",
    "This function shows a graph of the number of groups\n",
    "K with the mean accuracy %.\n",
    "Parameters: None\n",
    "Return value: None\n",
    "\"\"\"\n",
    "def graph():\n",
    "    K = [2,3,4,5,6,7,8,9,10,15]\n",
    "    Accuracy = [95.333,96.667,97.297,96.667,96.000,96.599,96.528,96.528,96.667,96.667]\n",
    "    plt.plot(K, Accuracy)\n",
    "    plt.xlabel('Number of groups K') \n",
    "    plt.ylabel('Mean Accuracy / %') \n",
    "    plt.show()\n",
    "graph()"
   ]
  },
  {
   "cell_type": "markdown",
   "metadata": {},
   "source": [
    "To further examine the accuracy of the model, a record of each folds mean values and the mean accuracy percentage for various values of n_ngb (number of neighbors) is kept:"
   ]
  },
  {
   "cell_type": "markdown",
   "metadata": {},
   "source": [
    "    n_ngb = 1\n",
    "    Values: [91.8918918918919, 100.0, 97.2972972972973, 94.5945945945946]\n",
    "    Mean Accuracy: 95.946%"
   ]
  },
  {
   "cell_type": "markdown",
   "metadata": {},
   "source": [
    "    n_ngb = 2\n",
    "    Values: [94.5945945945946, 97.2972972972973, 97.2972972972973, 94.5945945945946]\n",
    "    Mean Accuracy: 95.946%"
   ]
  },
  {
   "cell_type": "markdown",
   "metadata": {},
   "source": [
    "    n_ngb = 5\n",
    "    Values: [97.2972972972973, 100.0, 97.2972972972973, 94.5945945945946]\n",
    "    Mean Accuracy: 97.297%"
   ]
  },
  {
   "cell_type": "markdown",
   "metadata": {},
   "source": [
    "    n_ngb = 10\n",
    "    Values: [97.2972972972973, 100.0, 100.0, 94.5945945945946]\n",
    "    Mean Accuracy: 97.973%"
   ]
  },
  {
   "cell_type": "markdown",
   "metadata": {},
   "source": [
    "    n_ngb = 20\n",
    "    Values: [91.8918918918919, 97.2972972972973, 100.0, 94.5945945945946]\n",
    "    Mean Accuracy: 95.946%"
   ]
  },
  {
   "cell_type": "markdown",
   "metadata": {},
   "source": [
    "    n_ngb = 30\n",
    "    Values: [91.8918918918919, 97.2972972972973, 100.0, 91.8918918918919]\n",
    "    Mean Accuracy: 95.270%"
   ]
  },
  {
   "cell_type": "markdown",
   "metadata": {},
   "source": [
    "    n_ngb = 40\n",
    "    Values: [91.8918918918919, 94.5945945945946, 100.0, 91.8918918918919]\n",
    "    Mean Accuracy: 94.595%"
   ]
  },
  {
   "cell_type": "markdown",
   "metadata": {},
   "source": [
    "    n_ngb = 50\n",
    "    Values: [86.48648648648648, 91.8918918918919, 94.5945945945946, 89.1891891891892]\n",
    "    Mean Accuracy: 90.541%"
   ]
  },
  {
   "cell_type": "markdown",
   "metadata": {},
   "source": [
    "To visualize our results, I made a graph by displaying number of neighbors against mean accuracy percentages. When examining the graph, we see that the optimal number of neighbors is n_nbg = 10, after which the graph keeps getting a steep, negative slope which indicates that increasing the number of neighbors is now over-fitting the model. Thus, the now over-fitted model is not correctly classifying the data. "
   ]
  },
  {
   "cell_type": "code",
   "execution_count": 78,
   "metadata": {},
   "outputs": [
    {
     "data": {
      "image/png": "[encoded data removed]",
      "text/plain": [
       "<Figure size 432x288 with 1 Axes>"
      ]
     },
     "metadata": {
      "needs_background": "light"
     },
     "output_type": "display_data"
    }
   ],
   "source": [
    "\"\"\"\n",
    "This function shows a graph of the number of neighbors\n",
    "with the mean accuracy %.\n",
    "Parameters: None\n",
    "Return value: None\n",
    "\"\"\"\n",
    "def graph2():\n",
    "    n_ngb = [1,2,5,10,20,30,40,50]\n",
    "    Accuracy = [95.946,95.946,97.297,97.973,95.946,95.270,94.595,90.541]\n",
    "    plt.plot(n_ngb, Accuracy)\n",
    "    plt.xlabel('Number of neighbors') \n",
    "    plt.ylabel('Mean Accuracy / %') \n",
    "    plt.show()\n",
    "graph2()"
   ]
  },
  {
   "cell_type": "markdown",
   "metadata": {},
   "source": [
    "So as shown with results above, our model works best with the K value of K = 4 and the n_ngb value of n_ngb = 10. No we know how to train and test our model for new samples without over-fitting or under-fitting the model to our data."
   ]
  },
  {
   "cell_type": "code",
   "execution_count": 42,
   "metadata": {},
   "outputs": [],
   "source": [
    "#importing libraries\n",
    "from math import sqrt\n",
    "from csv import reader\n",
    "from random import seed \n",
    "import numpy as np \n",
    "import matplotlib.pyplot as plt \n",
    "from random import randrange"
   ]
  },
  {
   "cell_type": "code",
   "execution_count": null,
   "metadata": {},
   "outputs": [],
   "source": []
  }
 ],
 "metadata": {
  "kernelspec": {
   "display_name": "Python 3",
   "language": "python",
   "name": "python3"
  },
  "language_info": {
   "codemirror_mode": {
    "name": "ipython",
    "version": 3
   },
   "file_extension": ".py",
   "mimetype": "text/x-python",
   "name": "python",
   "nbconvert_exporter": "python",
   "pygments_lexer": "ipython3",
   "version": "3.8.5"
  }
 },
 "nbformat": 4,
 "nbformat_minor": 4
}
